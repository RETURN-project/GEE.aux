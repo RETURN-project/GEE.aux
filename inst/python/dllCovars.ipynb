{
  "nbformat": 4,
  "nbformat_minor": 0,
  "metadata": {
    "colab": {
      "name": "dllCovars.ipynb",
      "provenance": [],
      "collapsed_sections": [],
      "toc_visible": true
    },
    "kernelspec": {
      "display_name": "Python 3",
      "name": "python3"
    }
  },
  "cells": [
    {
      "cell_type": "code",
      "metadata": {
        "id": "krsLgVBYZw_A"
      },
      "source": [
        "#@title Copyright 2019 Google LLC. { display-mode: \"form\" }\n",
        "# Licensed under the Apache License, Version 2.0 (the \"License\");\n",
        "# you may not use this file except in compliance with the License.\n",
        "# You may obtain a copy of the License at\n",
        "#\n",
        "# https://www.apache.org/licenses/LICENSE-2.0\n",
        "#\n",
        "# Unless required by applicable law or agreed to in writing, software\n",
        "# distributed under the License is distributed on an \"AS IS\" BASIS,\n",
        "# WITHOUT WARRANTIES OR CONDITIONS OF ANY KIND, either express or implied.\n",
        "# See the License for the specific language governing permissions and\n",
        "# limitations under the License."
      ],
      "execution_count": 1,
      "outputs": []
    },
    {
      "cell_type": "markdown",
      "metadata": {
        "id": "aV1xZ1CPi3Nw"
      },
      "source": [
        "<table class=\"ee-notebook-buttons\" align=\"left\"><td>\n",
        "<a target=\"_blank\"  href=\"http://colab.research.google.com/github/google/earthengine-api/blob/master/python/examples/ipynb/ee-api-colab-setup.ipynb\">\n",
        "    <img src=\"https://www.tensorflow.org/images/colab_logo_32px.png\" /> Run in Google Colab</a>\n",
        "</td><td>\n",
        "<a target=\"_blank\"  href=\"https://github.com/google/earthengine-api/blob/master/python/examples/ipynb/ee-api-colab-setup.ipynb\"><img width=32px src=\"https://www.tensorflow.org/images/GitHub-Mark-32px.png\" /> View source on GitHub</a></td></table>"
      ]
    },
    {
      "cell_type": "markdown",
      "metadata": {
        "id": "LAZiVi13zTE7"
      },
      "source": [
        "# Download covariate data over sampled locations\n",
        "\n",
        "This notebook downloads a set of covariate data from sampled locations\n",
        "\n",
        "The point collection is assumed to contain the field `first` (referring to the ecoregion).\n",
        "\n",
        "## Import API and get credentials\n",
        "\n",
        "The Earth Engine API is installed by default in Google Colaboratory so requires only importing and authenticating. These steps must be completed for each new Colab session, if you restart your Colab kernel, or if your Colab virtual machine is recycled due to inactivity.\n",
        "\n",
        "### Import the API\n",
        "\n",
        "Run the following cell to import the API into your session."
      ]
    },
    {
      "cell_type": "code",
      "metadata": {
        "id": "65RChERMzQHZ"
      },
      "source": [
        "import ee"
      ],
      "execution_count": 2,
      "outputs": []
    },
    {
      "cell_type": "markdown",
      "metadata": {
        "id": "s-dN42MTzg-w"
      },
      "source": [
        "### Authenticate and initialize\n",
        "\n",
        "Run the `ee.Authenticate` function to authenticate your access to Earth Engine servers and `ee.Initialize` to initialize it. Upon running the following cell you'll be asked to grant Earth Engine access to your Google account. Follow the instructions printed to the cell."
      ]
    },
    {
      "cell_type": "code",
      "metadata": {
        "colab": {
          "base_uri": "https://localhost:8080/"
        },
        "id": "WE_uz7hJJMW-",
        "outputId": "6eb9147a-0546-40f8-c9bf-81c22519b9d4"
      },
      "source": [
        "# Import Google drive\n",
        "from google.colab import drive\n",
        "drive.mount('/content/gdrive')"
      ],
      "execution_count": 3,
      "outputs": [
        {
          "output_type": "stream",
          "text": [
            "Mounted at /content/gdrive\n"
          ],
          "name": "stdout"
        }
      ]
    },
    {
      "cell_type": "code",
      "metadata": {
        "colab": {
          "base_uri": "https://localhost:8080/"
        },
        "id": "NMp9Ei9b0XXL",
        "outputId": "64ba234e-d633-4c9f-93ff-8e1aaf3a4b54"
      },
      "source": [
        "# Trigger the GEE authentication flow.\n",
        "ee.Authenticate()\n",
        "\n",
        "# Initialize the library.\n",
        "ee.Initialize()"
      ],
      "execution_count": 4,
      "outputs": [
        {
          "output_type": "stream",
          "text": [
            "To authorize access needed by Earth Engine, open the following URL in a web browser and follow the instructions. If the web browser does not start automatically, please manually browse the URL below.\n",
            "\n",
            "    https://accounts.google.com/o/oauth2/auth?client_id=517222506229-vsmmajv00ul0bs7p89v5m89qs8eb9359.apps.googleusercontent.com&scope=https%3A%2F%2Fwww.googleapis.com%2Fauth%2Fearthengine+https%3A%2F%2Fwww.googleapis.com%2Fauth%2Fdevstorage.full_control&redirect_uri=urn%3Aietf%3Awg%3Aoauth%3A2.0%3Aoob&response_type=code&code_challenge=9yhBRyfoC2xoAyY83_nCt1T0ikXtJOvaopIR3TfEDmU&code_challenge_method=S256\n",
            "\n",
            "The authorization workflow will generate a code, which you should paste in the box below. \n",
            "Enter verification code: 4/1AY0e-g6nGTOSFurAz5x_81RSmbTGN5hN5ZrP8TsglfZcjH1Z5zAXLXZK56Q\n",
            "\n",
            "Successfully saved authorization token.\n"
          ],
          "name": "stdout"
        }
      ]
    },
    {
      "cell_type": "markdown",
      "metadata": {
        "id": "8I_Fr0L5AFmu"
      },
      "source": [
        "### User inputs\n",
        "\n",
        "Enter the following inputs:\n",
        "- `start_date`: start date of the period of interest\n",
        "- `end_date`: end date of the period of interest\n",
        "- `output_name`: name of the output file\n",
        "- `points_collection`: name of the collection with sampled points\n",
        "- `init_point`: initial point to be processed\n",
        "- `end_point`: final point to be processed (setting this to `None` equals the last point in the collection)"
      ]
    },
    {
      "cell_type": "code",
      "metadata": {
        "id": "v7pD6pDOAhOW"
      },
      "source": [
        "# Inputs\n",
        "start_date = ee.Date('1995-01-01')# start date of period of interest\n",
        "end_date = ee.Date('2020-01-01')# end date of period of interest\n",
        "init_point = 0# start processing this point onwards\n",
        "end_point = 10#None# last point to be processed, if None: this equals the latest point\n",
        "# name of GEE collection of points - from each of these points we want to extract a time series\n",
        "points_collection='users/wandadekeersmaecker/RETURN/samples_forest_loss_fire_n1000_VAL'\n",
        "output_name= '/content/gdrive/MyDrive/RETURN/Landsat_NBR/samples_forest_fire_nat_n1000_VAL_' + str(init_point) + '_' + str(end_point) + '.csv'#  path of output file\n"
      ],
      "execution_count": 5,
      "outputs": []
    },
    {
      "cell_type": "markdown",
      "metadata": {
        "id": "45BfeVygwmKm"
      },
      "source": [
        "### List sampled points\n",
        "\n",
        "Get a list of the sampled points "
      ]
    },
    {
      "cell_type": "code",
      "metadata": {
        "colab": {
          "base_uri": "https://localhost:8080/"
        },
        "id": "Fp4rdpy0eGjx",
        "outputId": "8e92d972-9dae-454c-bb92-e5e8e7b9b8c9"
      },
      "source": [
        "# number of points in the collection\n",
        "npontos=ee.FeatureCollection(points_collection).size().getInfo()\n",
        "\n",
        "if end_point == None:\n",
        "\tend_point=npontos\n",
        "print(end_point)\n",
        "# GEE list of points\n",
        "lista_pontos = ee.FeatureCollection(points_collection).toList(npontos)\n"
      ],
      "execution_count": 6,
      "outputs": [
        {
          "output_type": "stream",
          "text": [
            "10\n"
          ],
          "name": "stdout"
        }
      ]
    },
    {
      "cell_type": "markdown",
      "metadata": {
        "id": "CYfinjFhg0HN"
      },
      "source": [
        "## Data extraction\n",
        "For each point, a vector with the following information is added as one line to the output file:\n",
        " - `j`: ID of point\n",
        " - `ecoreg`: ecoregion \n",
        " - `point.geometry().coordinates().getInfo()`: coordinate\n",
        " - `cec_Vals`: soil CEC\n",
        " - `nitrogen_Vals`: soil nitrogen\n",
        " - `soc_Vals`: soil soc\n",
        " - `silt_Vals`: soil silt conent\n",
        " - `clay_Vals`: soil clay content\n",
        " - `cwd_Vals`: cumulative climatic water deficit\n",
        " - `elev_Vals`: elevation\n",
        " - `slope_Vals`: slope\n",
        " - `aspect_Vals`: aspect\n",
        " - `tcmean500_Vals`: mean tree cover in 500m square kernel\n",
        " - `tcmean1000_Vals`: mean tree cover in 1000m square kernel\n",
        " - `tcmean5000_Vals`: mean tree cover in 5000m square kernel\n",
        " - `tcsd500_Vals`: sd tree cover in 500m square kernel\n",
        " - `tcsd1000_Vals`: sd tree cover in 1000m square kernel\n",
        " - `tcsd5000_Vals`: sd tree cover in 5000m square kernel\n",
        " - `distWat_Vals`: distance to open water\n",
        " - `dist_Vals`: distance to no forest area"
      ]
    },
    {
      "cell_type": "code",
      "metadata": {
        "colab": {
          "base_uri": "https://localhost:8080/"
        },
        "id": "tRPULejJhBSl",
        "outputId": "83511460-a265-4d4a-ebab-d30511532535"
      },
      "source": [
        "# iterate over the points and write surface reflectance data to a file\n",
        "with open(output_name,\"a\") as f:\n",
        "\tfor j in range(init_point,end_point):\n",
        "\t\tprint(j)\n",
        "\t\t# get one point \n",
        "\t\tpoint = ee.Feature(lista_pontos.get(j))\n",
        "\t\t# CEC\n",
        "\t\tcec = ee.Image(\"projects/soilgrids-isric/cec_mean\")\n",
        "\t\tcec_obj=cec.reduceRegion('mean',point.geometry(),30)\n",
        "\t\tcec_List=cec_obj.getInfo()\n",
        "\t\tcec_Vals=list(cec_List.values())# CEC values\n",
        "\t\t# N\n",
        "\t\tnitrogen = ee.Image(\"projects/soilgrids-isric/nitrogen_mean\")\n",
        "\t\tnitrogen_obj=nitrogen.reduceRegion('mean',point.geometry(),30)\n",
        "\t\tnitrogen_List=nitrogen_obj.getInfo()\n",
        "\t\tnitrogen_Vals=list(nitrogen_List.values())# nitrogen values\n",
        "\t\t# SOC\n",
        "\t\tsoc = ee.Image(\"projects/soilgrids-isric/soc_mean\")\n",
        "\t\tsoc_obj=soc.reduceRegion('mean',point.geometry(),30)\n",
        "\t\tsoc_List=soc_obj.getInfo()\n",
        "\t\tsoc_Vals=list(soc_List.values())# soc values\n",
        "\t\t# silt\n",
        "\t\tsilt = ee.Image(\"projects/soilgrids-isric/silt_mean\")\n",
        "\t\tsilt_obj=silt.reduceRegion('mean',point.geometry(),30)\n",
        "\t\tsilt_List=silt_obj.getInfo()\n",
        "\t\tsilt_Vals=list(silt_List.values())# silt values\n",
        "\t\t# clay\n",
        "\t\tclay = ee.Image(\"projects/soilgrids-isric/clay_mean\")\n",
        "\t\tclay_obj=clay.reduceRegion('mean',point.geometry(),30)\n",
        "\t\tclay_List=clay_obj.getInfo()\n",
        "\t\tclay_Vals=list(clay_List.values())# clay values\n",
        "    # CCWD\n",
        "\t\tcwd = ee.ImageCollection(\"IDAHO_EPSCOR/TERRACLIMATE\").select('def').filterDate(start_date,end_date).filterBounds(point.geometry()).sum()\n",
        "\t\tcwd_obj=ee.Image(cwd).reduceRegion('mean',point.geometry(),30)\n",
        "\t\tcwd_List=cwd_obj.getInfo()\n",
        "\t\tcwd_Vals=list(cwd_List.values())# cwd values\n",
        "    # elevation\n",
        "\t\telev = ee.Image(\"USGS/SRTMGL1_003\")\n",
        "\t\telev_obj=elev.reduceRegion('mean',point.geometry(),30)\n",
        "\t\telev_List=elev_obj.getInfo()\n",
        "\t\telev_Vals=list(elev_List.values())# elev values\n",
        "    # slope \n",
        "\t\tslope = ee.Terrain.slope(ee.Image(\"USGS/SRTMGL1_003\"))\n",
        "\t\tslope_obj=slope.reduceRegion('mean',point.geometry(),30)\n",
        "\t\tslope_List=slope_obj.getInfo()\n",
        "\t\tslope_Vals=list(slope_List.values())# slope values\n",
        "    # aspect\n",
        "\t\taspect = ee.Terrain.aspect(ee.Image(\"USGS/SRTMGL1_003\"))\n",
        "\t\taspect_obj=aspect.reduceRegion('mean',point.geometry(),30)\n",
        "\t\taspect_List=aspect_obj.getInfo()\n",
        "\t\taspect_Vals=list(aspect_List.values())# aspect values\n",
        "    # treecover\n",
        "\t\than = ee.Image(\"UMD/hansen/global_forest_change_2019_v1_7\")\n",
        "\t\ttcmean500 = han.select('treecover2000').reduceNeighborhood(ee.Reducer.mean(), ee.Kernel.square(500,'meters'))\n",
        "\t\ttcmean500_obj=tcmean500.reduceRegion('mean',point.geometry(),30)\n",
        "\t\ttcmean500_List=tcmean500_obj.getInfo()\n",
        "\t\ttcmean500_Vals=list(tcmean500_List.values())# mean tree cover in 500m square kernel\n",
        "\t\ttcmean1000 = han.select('treecover2000').reduceNeighborhood(ee.Reducer.mean(), ee.Kernel.square(1000,'meters'))\n",
        "\t\ttcmean1000_obj=tcmean1000.reduceRegion('mean',point.geometry(),30)\n",
        "\t\ttcmean1000_List=tcmean1000_obj.getInfo()\n",
        "\t\ttcmean1000_Vals=list(tcmean1000_List.values())# mean tree cover in 1000m square kernel\n",
        "\t\ttcmean5000 = han.select('treecover2000').reduceNeighborhood(ee.Reducer.mean(), ee.Kernel.square(5000,'meters'))\n",
        "\t\ttcmean5000_obj=tcmean5000.reduceRegion('mean',point.geometry(),30)\n",
        "\t\ttcmean5000_List=tcmean5000_obj.getInfo()\n",
        "\t\ttcmean5000_Vals=list(tcmean5000_List.values())# # mean tree cover in 5000m square kernel\n",
        "\t\ttcsd500 = han.select('treecover2000').reduceNeighborhood(ee.Reducer.stdDev(), ee.Kernel.square(500,'meters'))\n",
        "\t\ttcsd500_obj=tcsd500.reduceRegion('mean',point.geometry(),30)\n",
        "\t\ttcsd500_List=tcsd500_obj.getInfo()\n",
        "\t\ttcsd500_Vals=list(tcsd500_List.values())# sd tree cover in 500m square kernel\n",
        "\t\ttcsd1000 = han.select('treecover2000').reduceNeighborhood(ee.Reducer.stdDev(), ee.Kernel.square(1000,'meters'))\n",
        "\t\ttcsd1000_obj=tcsd1000.reduceRegion('mean',point.geometry(),30)\n",
        "\t\ttcsd1000_List=tcsd1000_obj.getInfo()\n",
        "\t\ttcsd1000_Vals=list(tcsd1000_List.values())# sd tree cover in 1000m square kernel\n",
        "\t\ttcsd5000 = han.select('treecover2000').reduceNeighborhood(ee.Reducer.stdDev(), ee.Kernel.square(5000,'meters')) \n",
        "\t\ttcsd5000_obj=tcsd5000.reduceRegion('mean',point.geometry(),30)\n",
        "\t\ttcsd5000_List=tcsd5000_obj.getInfo()\n",
        "\t\ttcsd5000_Vals=list(tcsd5000_List.values())# sd tree cover in 5000m square kernel\n",
        "\t\t# Distance to water\n",
        "\t\twat = ee.Image(\"JRC/GSW1_2/GlobalSurfaceWater\")\n",
        "\t\twater = wat.select('max_extent').eq(1)\n",
        "\t\tprojectionWat = water.select(0).projection()\n",
        "\t\tscaleWat = 30\n",
        "\t\tdistWat = water.fastDistanceTransform(4000).sqrt().reproject(crs=projectionWat,scale=scaleWat).multiply(ee.Image.pixelArea().sqrt())\n",
        "\t\tdistWat_obj=distWat.reduceRegion('mean',point.geometry(),30)\n",
        "\t\tdistWat_List=distWat_obj.getInfo()\n",
        "\t\tdistWat_Vals=list(distWat_List.values())# distance to water\n",
        "\t\t# Distance to buildings\n",
        "\t\t#buildup = ee.Image(\"JRC/GHSL/P2016/BUILT_LDSMT_GLOBE_V1\")\n",
        "\t\t#buildings = buildup.select('built').gt(2)\n",
        "\t\t#projectionBU = buildup.select(0).projection()\n",
        "\t\t#scaleBU = 38.21851414258853\n",
        "\t\t#distBU = buildings.fastDistanceTransform(5000).sqrt().reproject(crs=projectionBU,scale=scaleBU).multiply(ee.Image.pixelArea().sqrt());\n",
        "\t\t#distBU_obj=distBU.reduceRegion('mean',point.geometry(),scaleBU)\n",
        "\t\t#distBU_List=distBU_obj.getInfo()\n",
        "\t\t#distBU_Vals=list(distBU_List.values())# CEC values\n",
        "\t\t# Distance to no-forest area\n",
        "\t\than = ee.Image(\"UMD/hansen/global_forest_change_2019_v1_7\")\n",
        "\t\tFor = han.select('treecover2000').lt(60)\n",
        "\t\tprojection = For.select(0).projection();\n",
        "\t\tscale = 30\n",
        "\t\tdist = For.fastDistanceTransform(4000).sqrt().reproject(crs=projection,scale=scale).multiply(ee.Image.pixelArea().sqrt());\n",
        "\t\tdist_obj=dist.reduceRegion('mean',point.geometry(),30)\n",
        "\t\tdist_List=dist_obj.getInfo()\n",
        "\t\tdist_Vals=list(dist_List.values())# distance to no-forest area\n",
        "    # ecoregion of the point\n",
        "\t\tecoreg = point.get('ecoReg').getInfo()\n",
        "\t\tid = point.get('id').getInfo()\n",
        "    # vector to be exported\n",
        "\t\twrite_vector=[id,ecoreg,point.geometry().coordinates().getInfo(),cec_Vals,nitrogen_Vals,soc_Vals,silt_Vals,clay_Vals,cwd_Vals, elev_Vals,slope_Vals,aspect_Vals,tcmean500_Vals,tcmean1000_Vals,tcmean5000_Vals,tcsd500_Vals,tcsd1000_Vals,tcsd5000_Vals,distWat_Vals,dist_Vals]#,distBU_Vals,dist_Vals\n",
        "\t\tf.write(str(write_vector)+'\\n')\n",
        "\t\tf.flush()"
      ],
      "execution_count": 7,
      "outputs": [
        {
          "output_type": "stream",
          "text": [
            "0\n",
            "1\n",
            "2\n",
            "3\n",
            "4\n",
            "5\n",
            "6\n",
            "7\n",
            "8\n",
            "9\n"
          ],
          "name": "stdout"
        }
      ]
    }
  ]
}