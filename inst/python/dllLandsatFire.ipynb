{
  "nbformat": 4,
  "nbformat_minor": 0,
  "metadata": {
    "colab": {
      "name": "dllLandsatFire.ipynb",
      "provenance": [],
      "collapsed_sections": [
        "s-dN42MTzg-w",
        "45BfeVygwmKm",
        "Ljo5dbLkfmVm"
      ],
      "toc_visible": true
    },
    "kernelspec": {
      "name": "python3",
      "display_name": "Python 3"
    }
  },
  "cells": [
    {
      "cell_type": "code",
      "metadata": {
        "id": "krsLgVBYZw_A"
      },
      "source": [
        "#@title Copyright 2019 Google LLC. { display-mode: \"form\" }\n",
        "# Licensed under the Apache License, Version 2.0 (the \"License\");\n",
        "# you may not use this file except in compliance with the License.\n",
        "# You may obtain a copy of the License at\n",
        "#\n",
        "# https://www.apache.org/licenses/LICENSE-2.0\n",
        "#\n",
        "# Unless required by applicable law or agreed to in writing, software\n",
        "# distributed under the License is distributed on an \"AS IS\" BASIS,\n",
        "# WITHOUT WARRANTIES OR CONDITIONS OF ANY KIND, either express or implied.\n",
        "# See the License for the specific language governing permissions and\n",
        "# limitations under the License."
      ],
      "execution_count": null,
      "outputs": []
    },
    {
      "cell_type": "markdown",
      "metadata": {
        "id": "aV1xZ1CPi3Nw"
      },
      "source": [
        "<table class=\"ee-notebook-buttons\" align=\"left\"><td>\n",
        "<a target=\"_blank\"  href=\"http://colab.research.google.com/github/google/earthengine-api/blob/master/python/examples/ipynb/ee-api-colab-setup.ipynb\">\n",
        "    <img src=\"https://www.tensorflow.org/images/colab_logo_32px.png\" /> Run in Google Colab</a>\n",
        "</td><td>\n",
        "<a target=\"_blank\"  href=\"https://github.com/google/earthengine-api/blob/master/python/examples/ipynb/ee-api-colab-setup.ipynb\"><img width=32px src=\"https://www.tensorflow.org/images/GitHub-Mark-32px.png\" /> View source on GitHub</a></td></table>"
      ]
    },
    {
      "cell_type": "markdown",
      "metadata": {
        "id": "LAZiVi13zTE7"
      },
      "source": [
        "# Download Landsat NBR  and CCI Fire time series over sampled locations\n",
        "\n",
        "This notebook downloads NBR time series (derived from Landsat Surface Reflectance data) and CCI Fire time series from sampled locations\n",
        "\n",
        "The point collection is assumed to contain the field `first` (referring to the ecoregion).\n",
        "\n",
        "## Import API and get credentials\n",
        "\n",
        "The Earth Engine API is installed by default in Google Colaboratory so requires only importing and authenticating. These steps must be completed for each new Colab session, if you restart your Colab kernel, or if your Colab virtual machine is recycled due to inactivity.\n",
        "\n",
        "### Import the API\n",
        "\n",
        "Run the following cell to import the API into your session."
      ]
    },
    {
      "cell_type": "code",
      "metadata": {
        "id": "65RChERMzQHZ"
      },
      "source": [
        "import ee"
      ],
      "execution_count": 2,
      "outputs": []
    },
    {
      "cell_type": "markdown",
      "metadata": {
        "id": "s-dN42MTzg-w"
      },
      "source": [
        "### Authenticate and initialize\n",
        "\n",
        "Run the `ee.Authenticate` function to authenticate your access to Earth Engine servers and `ee.Initialize` to initialize it. Upon running the following cell you'll be asked to grant Earth Engine access to your Google account. Follow the instructions printed to the cell."
      ]
    },
    {
      "cell_type": "code",
      "metadata": {
        "id": "NMp9Ei9b0XXL",
        "colab": {
          "base_uri": "https://localhost:8080/"
        },
        "outputId": "e96e8095-ce65-4206-bea0-71b15bbc6d96"
      },
      "source": [
        "# Trigger the authentication flow.\n",
        "ee.Authenticate()\n",
        "\n",
        "# Initialize the library.\n",
        "ee.Initialize()"
      ],
      "execution_count": 3,
      "outputs": [
        {
          "output_type": "stream",
          "text": [
            "To authorize access needed by Earth Engine, open the following URL in a web browser and follow the instructions. If the web browser does not start automatically, please manually browse the URL below.\n",
            "\n",
            "    https://accounts.google.com/o/oauth2/auth?client_id=517222506229-vsmmajv00ul0bs7p89v5m89qs8eb9359.apps.googleusercontent.com&scope=https%3A%2F%2Fwww.googleapis.com%2Fauth%2Fearthengine+https%3A%2F%2Fwww.googleapis.com%2Fauth%2Fdevstorage.full_control&redirect_uri=urn%3Aietf%3Awg%3Aoauth%3A2.0%3Aoob&response_type=code&code_challenge=mLrTMZb5P0Qi2E0QdU4-43zgY3ZjSDPZNAzSCjjvouc&code_challenge_method=S256\n",
            "\n",
            "The authorization workflow will generate a code, which you should paste in the box below. \n",
            "Enter verification code: 4/1AY0e-g7fH6qq1RMwiEIPFBj-Fx-yBVs-FVSkZNliGbuLKpiK8kXMSWA2OQQ\n",
            "\n",
            "Successfully saved authorization token.\n"
          ],
          "name": "stdout"
        }
      ]
    },
    {
      "cell_type": "markdown",
      "metadata": {
        "id": "8I_Fr0L5AFmu"
      },
      "source": [
        "### User inputs\n",
        "\n",
        "Enter the following inputs:\n",
        "- `start_date`: start date of the period of interest\n",
        "- `end_date`: end date of the period of interest\n",
        "- `output_name`: name of the output file\n",
        "- `points_collection`: name of the collection with sampled points\n",
        "- `init_point`: initial point to be processed\n",
        "- `end_point`: final point to be processed (setting this to `None` equals the last point in the collection)"
      ]
    },
    {
      "cell_type": "code",
      "metadata": {
        "id": "v7pD6pDOAhOW"
      },
      "source": [
        "# Inputs\n",
        "start_date = ee.Date('1995-01-01')# start date of period of interest\n",
        "end_date = ee.Date('2020-01-01')# end date of period of interest\n",
        "output_name= 'samples_forest_fire_nat_n30.csv'#  path of output file\n",
        "# name of GEE collection of points - from each of these points we want to extract a time series\n",
        "points_collection='users/wandadekeersmaecker/RETURN/samples_forest_loss_fire_n30'\n",
        "init_point = 0# start processing this point onwards\n",
        "end_point = None# last point to be processed, if None: this equals the latest point\n",
        "\n"
      ],
      "execution_count": 7,
      "outputs": []
    },
    {
      "cell_type": "markdown",
      "metadata": {
        "id": "45BfeVygwmKm"
      },
      "source": [
        "### List sampled points\n",
        "\n",
        "Get a list of the sampled points "
      ]
    },
    {
      "cell_type": "code",
      "metadata": {
        "id": "Fp4rdpy0eGjx",
        "colab": {
          "base_uri": "https://localhost:8080/"
        },
        "outputId": "9e1a9696-7434-4063-8e0d-60b4732eeeb0"
      },
      "source": [
        "# number of points in the collection\n",
        "npontos=ee.FeatureCollection(points_collection).size().getInfo()\n",
        "\n",
        "if end_point == None:\n",
        "\tend_point=npontos\n",
        "print(end_point)\n",
        "# GEE list of points\n",
        "lista_pontos = ee.FeatureCollection(points_collection).toList(npontos)\n"
      ],
      "execution_count": 8,
      "outputs": [
        {
          "output_type": "stream",
          "text": [
            "1361\n"
          ],
          "name": "stdout"
        }
      ]
    },
    {
      "cell_type": "markdown",
      "metadata": {
        "id": "Ljo5dbLkfmVm"
      },
      "source": [
        "### Functions to prepare the Landsat Surface Reflectance data\n",
        "The following functions are defined:\n",
        "- `maskL8sr`: mask the Landsat 8 surface reflectance data \n",
        "- `maskL457sr`: mask the Landsat 4,5,7 surface reflectance data \n",
        "- `calcNBRl8`: calculate NBR for landsat 8\n",
        "- `calcNBRl457`: calculate NBR for landsat 4,5,7\n",
        "\n",
        " "
      ]
    },
    {
      "cell_type": "code",
      "metadata": {
        "id": "VIiyf6azf4mU"
      },
      "source": [
        "# function to mask Landsat 8 surface reflectance data\n",
        "def maskL8sr(image):\n",
        "\t# Bits 3 and 5 are cloud shadow and cloud, respectively.\n",
        "\tcloudShadowBitMask = 1 << 3\t\n",
        "\tcloudsBitMask = 1 << 5  \n",
        "\tsnowBitMask = 1 << 4\n",
        "\tcloudconf1 = 1 << 6\n",
        "\tcloudconf2 = 1 << 7\n",
        "\tcirrusconf1 = 1 << 8\n",
        "\tcirrusconf2 = 1 << 9\n",
        "\taeroconf1 = 1 << 6\n",
        "\taeroconf2 = 1 << 7\n",
        "\t# Get the pixel QA band.\n",
        "\tqa = image.select('pixel_qa')\n",
        "\taero = image.select('sr_aerosol')\n",
        "\t# Both flags should be set to zero, indicating clear conditions.\n",
        "\tmask = qa.bitwiseAnd(cloudShadowBitMask).eq(0).And(qa.bitwiseAnd(cloudsBitMask).eq(0)).And(qa.bitwiseAnd(snowBitMask).eq(0))\n",
        "\t#Return the masked image, scaled to reflectance, without the QA bands.\n",
        "\treturn (image.updateMask(mask)\n",
        "\t\t.select(\"B[0-9]*\")\n",
        "\t\t.copyProperties(image, [\"system:time_start\"]))\n",
        " \n",
        " # function to mask Landsat 4, 5, 7 surface reflectance data\n",
        "def maskL457sr(image):\n",
        "\tqa = image.select('pixel_qa')\n",
        "\top = image.select('sr_atmos_opacity')\n",
        "\t# If the cloud bit (5) is set and the cloud confidence (7) is high\n",
        "\t# or the cloud shadow bit is set (3), then it's a bad pixel.\n",
        "\t# Bits 3 and 5 are cloud shadow and cloud, respectively.\n",
        "\tcloudShadowBitMask = 1 << 3\n",
        "\tcloudsBitMask = 1 << 5\n",
        "\tsnowBitMask = 1 << 4\n",
        "\tcloudconf1 = 1 << 6\n",
        "\tcloudconf2 = 1 << 7\n",
        "\t\n",
        "\tmask = (qa.bitwiseAnd(cloudShadowBitMask).eq(0)\n",
        "\t\t.And(qa.bitwiseAnd(cloudsBitMask).eq(0))\n",
        "\t\t.And(qa.bitwiseAnd(snowBitMask).eq(0)))\n",
        "\treturn (image.updateMask(mask)\n",
        "\t\t.select(\"B[0-9]*\")\n",
        "\t\t.copyProperties(image, [\"system:time_start\"]))\n",
        "\n",
        "# function to calculate NBR for landsat 8\n",
        "def calcNBRl8(im):\n",
        "\treturn (im.toFloat()\n",
        "\t\t.normalizedDifference(['B5', 'B7'])\n",
        "\t\t.rename('NBR')\n",
        "\t\t.copyProperties(im, [\"system:time_start\"]))\n",
        "\n",
        "# function to calculate NBR for landsat 4,5,7\n",
        "def calcNBRl457(im):\n",
        "\treturn (im.toFloat()\n",
        "\t\t.normalizedDifference(['B4', 'B7'])\n",
        "\t\t.rename('NBR')\n",
        "\t\t.copyProperties(im, [\"system:time_start\"]))\n",
        "\n",
        "\n"
      ],
      "execution_count": 9,
      "outputs": []
    },
    {
      "cell_type": "markdown",
      "metadata": {
        "id": "CYfinjFhg0HN"
      },
      "source": [
        "## Extract time series\n",
        "For each point, \n",
        "- Landsat time series are prepared:\n",
        " - import Landsat 4, 5, 7, and 8 surface reflectance collections \n",
        " - filter on user defined time span\n",
        " - mask cloudy observations\n",
        " - calculate NBR\n",
        " - extract time series of point location\n",
        "- Fire time series are prepared:\n",
        " - CCI Fire fire DOY and fire confidence are impored\n",
        " - filter on user defined time span\n",
        "- a vector with the following information is added as one line to the output file:\n",
        " - `j`: ID of point\n",
        " - `ecoreg`: ecoregion \n",
        " - `point.geometry().coordinates().getInfo()`: coordinate\n",
        " - `values`: Landsat image names\n",
        " - `anp`: Landsat observations\n",
        " - `freDts`: CCI fire (DOY) image names\n",
        " - `freVals`: CCI fire DOY observations\n",
        " - `freConfDts`: CCI fire (confidence) image names\n",
        " - `freConfVals`: CCI fire confidence observations\n",
        "\n",
        "\n",
        "\n"
      ]
    },
    {
      "cell_type": "code",
      "metadata": {
        "id": "tRPULejJhBSl",
        "colab": {
          "base_uri": "https://localhost:8080/"
        },
        "outputId": "3c5866bd-8f97-494a-f1a3-bb12e8c5c178"
      },
      "source": [
        "# iterate over the points and write surface reflectance data to a file\n",
        "with open(output_name,\"a\") as f:\n",
        "\tfor j in range(init_point,end_point):\n",
        "\t\tprint(j)\n",
        "\t\t# get one point \n",
        "\t\tpoint = ee.Feature(lista_pontos.get(j))\n",
        "\t\t# Landsat 8,7,5,4 surface reflectance image collection, \n",
        "\t\t#filtered using date range and spatial boundary, cloud masked, NBR derived\n",
        "\t\tcolL8 = (ee.ImageCollection(\"LANDSAT/LC08/C01/T1_SR\")\n",
        "\t\t\t.filterDate(start_date,end_date)\n",
        "\t\t\t.filterBounds(point.geometry())\n",
        "\t\t\t.map(maskL8sr)\n",
        "\t\t\t.map(calcNBRl8))\n",
        "\t\tcolL7 = (ee.ImageCollection(\"LANDSAT/LE07/C01/T1_SR\")\n",
        "\t\t\t.filterDate(start_date,end_date)\n",
        "\t\t\t.filterBounds(point.geometry())\n",
        "\t\t\t.map(maskL457sr)\n",
        "\t\t\t.map(calcNBRl457))\n",
        "\t\tcolL5 = (ee.ImageCollection(\"LANDSAT/LT05/C01/T1_SR\")\n",
        "\t\t\t.filterDate(start_date,end_date)\n",
        "\t\t\t.filterBounds(point.geometry())\n",
        "\t\t\t.map(maskL457sr)\n",
        "\t\t\t.map(calcNBRl457))\n",
        "\t\tcolL4 = (ee.ImageCollection(\"LANDSAT/LT04/C01/T1_SR\")\n",
        "\t\t\t.filterDate(start_date,end_date)\n",
        "\t\t\t.filterBounds(point.geometry())\n",
        "\t\t\t.map(maskL457sr)\n",
        "\t\t\t.map(calcNBRl457))\n",
        "\t\t# combine all collections\n",
        "\t\tcol = colL8.merge(colL7).merge(colL5).merge(colL4)\n",
        "\t\t# convert the collection to an image where each band represents a different date\n",
        "\t\toriginal=col.select('NBR').toBands().reduceRegion('mean',point.geometry(),30)\n",
        "\t\t# Import the fire collection\n",
        "\t\t# collection containing the day of year of fire\n",
        "\t\tcolFire = (ee.ImageCollection(\"users/wandadekeersmaecker/CCI_fire_v51\").filterDate(start_date,end_date).filterBounds(point.geometry()))\n",
        "\t\t# collection containing the confidence of fire occurrence\n",
        "\t\tcolFireConf = (ee.ImageCollection(\"users/wandadekeersmaecker/CCI_fire_v51_conf\").filterDate(start_date,end_date).filterBounds(point.geometry()))\n",
        "\t\t# extract a fire time series for the point of interest\n",
        "\t\tfre = colFire.toBands().reduceRegion('mean',point.geometry(),30)\n",
        "\t\tfreConf=colFireConf.toBands().reduceRegion('mean',point.geometry(),30)\n",
        "\t\t# get the fire information\n",
        "\t\tfreList=fre.getInfo()\n",
        "\t\tfreDts = list(freList.keys())# dates\n",
        "\t\tfreVals=list(freList.values())# fire doy \n",
        "\t\tfreConfList=freConf.getInfo()# \n",
        "\t\tfreConfDts = list(freConfList.keys())# dates\n",
        "\t\tfreConfVals=list(freConfList.values())# fire confidence\n",
        "\t\t# ecoregion of the point\n",
        "\t\tecoreg = point.get('first').getInfo()\n",
        "\t\ta=original.getInfo()\n",
        "\t\t# extract dates of the observations\n",
        "\t\tvalues=list(a.keys())\n",
        "\t\t# extract observations\n",
        "\t\tanp=list(a.values())\n",
        "\t\t# vector to be exported\n",
        "\t\twrite_vector=[j,ecoreg,point.geometry().coordinates().getInfo(),values,anp, freDts,freVals, freConfDts, freConfVals]\n",
        "\t\tf.write(str(write_vector)+'\\n')\n",
        "\t\tf.flush()"
      ],
      "execution_count": null,
      "outputs": [
        {
          "output_type": "stream",
          "text": [
            "0\n",
            "1\n",
            "2\n",
            "3\n",
            "4\n",
            "5\n",
            "6\n",
            "7\n",
            "8\n",
            "9\n",
            "10\n",
            "11\n",
            "12\n",
            "13\n",
            "14\n",
            "15\n",
            "16\n",
            "17\n",
            "18\n",
            "19\n",
            "20\n",
            "21\n",
            "22\n",
            "23\n",
            "24\n",
            "25\n",
            "26\n",
            "27\n",
            "28\n",
            "29\n",
            "30\n",
            "31\n",
            "32\n",
            "33\n",
            "34\n",
            "35\n",
            "36\n",
            "37\n",
            "38\n",
            "39\n",
            "40\n",
            "41\n",
            "42\n",
            "43\n",
            "44\n",
            "45\n",
            "46\n",
            "47\n",
            "48\n",
            "49\n",
            "50\n",
            "51\n",
            "52\n",
            "53\n",
            "54\n",
            "55\n",
            "56\n",
            "57\n",
            "58\n",
            "59\n",
            "60\n",
            "61\n",
            "62\n",
            "63\n",
            "64\n",
            "65\n",
            "66\n",
            "67\n",
            "68\n",
            "69\n",
            "70\n",
            "71\n",
            "72\n",
            "73\n",
            "74\n",
            "75\n",
            "76\n",
            "77\n",
            "78\n",
            "79\n",
            "80\n",
            "81\n",
            "82\n",
            "83\n",
            "84\n",
            "85\n",
            "86\n",
            "87\n",
            "88\n",
            "89\n",
            "90\n",
            "91\n",
            "92\n",
            "93\n",
            "94\n",
            "95\n",
            "96\n",
            "97\n",
            "98\n",
            "99\n",
            "100\n",
            "101\n",
            "102\n",
            "103\n",
            "104\n",
            "105\n",
            "106\n",
            "107\n",
            "108\n",
            "109\n",
            "110\n",
            "111\n",
            "112\n",
            "113\n",
            "114\n",
            "115\n",
            "116\n",
            "117\n",
            "118\n",
            "119\n",
            "120\n",
            "121\n",
            "122\n",
            "123\n",
            "124\n",
            "125\n",
            "126\n",
            "127\n",
            "128\n",
            "129\n",
            "130\n",
            "131\n",
            "132\n",
            "133\n",
            "134\n",
            "135\n",
            "136\n",
            "137\n",
            "138\n",
            "139\n",
            "140\n",
            "141\n",
            "142\n",
            "143\n",
            "144\n",
            "145\n",
            "146\n",
            "147\n",
            "148\n",
            "149\n",
            "150\n"
          ],
          "name": "stdout"
        }
      ]
    }
  ]
}